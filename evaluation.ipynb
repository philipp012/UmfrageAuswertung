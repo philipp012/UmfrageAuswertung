{
 "cells": [
  {
   "cell_type": "code",
   "execution_count": 39,
   "metadata": {
    "collapsed": true
   },
   "outputs": [],
   "source": [
    "from pyspark.sql.types import ArrayType, StringType\n",
    "from pyspark.shell import spark\n",
    "from pyspark.sql import functions as F\n",
    "\n"
   ]
  },
  {
   "cell_type": "code",
   "execution_count": 40,
   "outputs": [],
   "source": [
    "df = spark\\\n",
    "    .read\\\n",
    "    .option('header', True)\\\n",
    "    .csv('Umfrage.csv')\\"
   ],
   "metadata": {
    "collapsed": false,
    "pycharm": {
     "name": "#%%\n"
    }
   }
  },
  {
   "cell_type": "code",
   "execution_count": 41,
   "outputs": [
    {
     "name": "stdout",
     "output_type": "stream",
     "text": [
      "+-------------+--------+-------------------------------------------------------------------------+----------------+----------------+-----+\n",
      "|age          |language|media                                                                    |kvi             |kfi             |party|\n",
      "+-------------+--------+-------------------------------------------------------------------------+----------------+----------------+-----+\n",
      "|10 - 20 Jahre|Deutsch |SRF, NZZ                                                                 |Ja              |Ja              |SP   |\n",
      "|10 - 20 Jahre|Deutsch |SRF                                                                      |Weiss noch nicht|Weiss noch nicht|FDP  |\n",
      "|10 - 20 Jahre|Deutsch |SRF                                                                      |Ja              |Nein            |FDP  |\n",
      "|10 - 20 Jahre|Deutsch |20min                                                                    |Nein            |Weiss noch nicht|CVP  |\n",
      "|10 - 20 Jahre|Deutsch |SRF, NZZ                                                                 |Ja              |Ja              |SP   |\n",
      "|10 - 20 Jahre|Deutsch |20min                                                                    |Ja              |Ja              |EVP  |\n",
      "|10 - 20 Jahre|Deutsch |20min, Blick, SRF, NZZ                                                   |Weiss noch nicht|Weiss noch nicht|GLP  |\n",
      "|10 - 20 Jahre|Deutsch |20min, Blick, NZZ                                                        |Nein            |Ja              |CVP  |\n",
      "|10 - 20 Jahre|Deutsch |SRF, NZZ                                                                 |Ja              |Ja              |GLP  |\n",
      "|40 - 50 Jahre|Deutsch |20min, SRF, Landbote                                                     |Ja              |Ja              |SP   |\n",
      "|20 - 30 Jahre|Deutsch |20min, Blick, Watson, SRF, NZZ                                           |Nein            |Ja              |FDP  |\n",
      "|10 - 20 Jahre|Deutsch |20min, Blick, Watson, SRF, Tagesanzeiger                                 |Weiss noch nicht|Weiss noch nicht|EVP  |\n",
      "|50 - 60 Jahre|Deutsch |Weltwoche                                                                |Nein            |Nein            |SVP  |\n",
      "|10 - 20 Jahre|Deutsch |SRF, Tagesanzeiger                                                       |Ja              |Nein            |SP   |\n",
      "|10 - 20 Jahre|Deutsch |20min, Blick, SRF, Weltwoche, NZZ, Tagesanzeiger, WazonNews              |Weiss noch nicht|Nein            |CVP  |\n",
      "|10 - 20 Jahre|Deutsch |20min, Blick, Watson, SRF                                                |Weiss noch nicht|Weiss noch nicht|SP   |\n",
      "|10 - 20 Jahre|Deutsch |20min                                                                    |Weiss noch nicht|Ja              |CVP  |\n",
      "|10 - 20 Jahre|Deutsch |20min, SRF, NZZ                                                          |Nein            |Nein            |FDP  |\n",
      "|10 - 20 Jahre|Deutsch |20min, SRF, NZZ, Tagesanzeiger                                           |Weiss noch nicht|Ja              |GLP  |\n",
      "|10 - 20 Jahre|Deutsch |Blick                                                                    |Weiss noch nicht|Ja              |Grüne|\n",
      "|10 - 20 Jahre|Deutsch |20min, Blick, SRF                                                        |Nein            |Weiss noch nicht|FDP  |\n",
      "|10 - 20 Jahre|Deutsch |SRF, NZZ                                                                 |Ja              |Ja              |SP   |\n",
      "|10 - 20 Jahre|Deutsch |20min, SRF                                                               |Weiss noch nicht|Weiss noch nicht|SVP  |\n",
      "|10 - 20 Jahre|Deutsch |20min, Blick, SRF                                                        |Ja              |Weiss noch nicht|CVP  |\n",
      "|10 - 20 Jahre|Deutsch |20min, Blick, Watson, SRF, Tagesanzeiger, 24 heures                      |Ja              |Ja              |FDP  |\n",
      "|10 - 20 Jahre|Deutsch |20min, SRF                                                               |Weiss noch nicht|Nein            |SVP  |\n",
      "|10 - 20 Jahre|Deutsch |20min, Blick                                                             |Weiss noch nicht|Ja              |SVP  |\n",
      "|10 - 20 Jahre|Deutsch |20min, SRF, Tagesanzeiger                                                |Ja              |Weiss noch nicht|SP   |\n",
      "|10 - 20 Jahre|Deutsch |20min, Blick                                                             |Weiss noch nicht|Weiss noch nicht|CVP  |\n",
      "|10 - 20 Jahre|Deutsch |nada                                                                     |Ja              |Ja              |Grüne|\n",
      "|10 - 20 Jahre|Deutsch |keine                                                                    |Weiss noch nicht|Ja              |Grüne|\n",
      "|10 - 20 Jahre|Deutsch |SRF, NZZ                                                                 |Ja              |Ja              |SP   |\n",
      "|10 - 20 Jahre|Deutsch |SRF                                                                      |Nein            |Nein            |GLP  |\n",
      "|20 - 30 Jahre|Deutsch |20min, Watson, SRF, NZZ                                                  |Ja              |Weiss noch nicht|Grüne|\n",
      "|10 - 20 Jahre|Deutsch |20min, Blick, SRF, NZZ, Tagesanzeiger                                    |Weiss noch nicht|Nein            |FDP  |\n",
      "|10 - 20 Jahre|Deutsch |20min, Blick, SRF                                                        |Nein            |Nein            |SVP  |\n",
      "|40 - 50 Jahre|Deutsch |20min, Watson, SRF                                                       |Weiss noch nicht|Weiss noch nicht|FDP  |\n",
      "|10 - 20 Jahre|Deutsch |20min, SRF                                                               |Nein            |Nein            |SVP  |\n",
      "|40 - 50 Jahre|Deutsch |SRF                                                                      |Weiss noch nicht|Weiss noch nicht|SP   |\n",
      "|10 - 20 Jahre|Deutsch |20min, SRF                                                               |Nein            |Nein            |SP   |\n",
      "|10 - 20 Jahre|Deutsch |20min, SRF                                                               |Ja              |Nein            |SP   |\n",
      "|10 - 20 Jahre|Deutsch |20min, Blick, Watson, SRF, nau.ch                                        |Weiss noch nicht|Weiss noch nicht|SVP  |\n",
      "|10 - 20 Jahre|Deutsch |SRF, Tagesanzeiger                                                       |Weiss noch nicht|Weiss noch nicht|SP   |\n",
      "|20 - 30 Jahre|Deutsch |20min, Blick, SRF                                                        |Ja              |Ja              |Grüne|\n",
      "|10 - 20 Jahre|Deutsch |20min                                                                    |Ja              |Weiss noch nicht|FDP  |\n",
      "|10 - 20 Jahre|Deutsch |20min, Blick, Watson, SRF                                                |Ja              |Weiss noch nicht|GLP  |\n",
      "|10 - 20 Jahre|Deutsch |NZZ                                                                      |Weiss noch nicht|Weiss noch nicht|Grüne|\n",
      "|10 - 20 Jahre|Deutsch |20min, Blick, SRF                                                        |Weiss noch nicht|Weiss noch nicht|FDP  |\n",
      "|10 - 20 Jahre|Deutsch |20min, SRF                                                               |Weiss noch nicht|Weiss noch nicht|SP   |\n",
      "|10 - 20 Jahre|Deutsch |20min, SRF                                                               |Ja              |Ja              |FDP  |\n",
      "|10 - 20 Jahre|Deutsch |SRF                                                                      |Weiss noch nicht|Weiss noch nicht|SVP  |\n",
      "|20 - 30 Jahre|Deutsch |20min, SRF, NZZ                                                          |Ja              |Ja              |CVP  |\n",
      "|10 - 20 Jahre|Deutsch |SRF                                                                      |Nein            |Nein            |CVP  |\n",
      "|40 - 50 Jahre|Deutsch |SRF, FAZ, Die Zeit                                                       |Ja              |Ja              |SP   |\n",
      "|10 - 20 Jahre|Deutsch |20min, Blick, Watson, WOZ, NZZ, 24 heures, Corriere del Ticino, il Matino|Ja              |Ja              |BDP  |\n",
      "|10 - 20 Jahre|Deutsch |20min, SRF                                                               |Weiss noch nicht|Weiss noch nicht|EVP  |\n",
      "|10 - 20 Jahre|Deutsch |SRF                                                                      |Ja              |Ja              |FDP  |\n",
      "|10 - 20 Jahre|Deutsch |nūt amk alles lw vallah insta langed                                     |Nein            |Nein            |SVP  |\n",
      "|10 - 20 Jahre|Deutsch |20min                                                                    |Weiss noch nicht|Weiss noch nicht|SVP  |\n",
      "|40 - 50 Jahre|Deutsch |20min, Blick, SRF, Thurgauer Zeitung,                                    |Weiss noch nicht|Nein            |CVP  |\n",
      "|10 - 20 Jahre|Deutsch |20min, Blick, SRF, NZZ                                                   |Ja              |Weiss noch nicht|SVP  |\n",
      "|50 - 60 Jahre|Deutsch |20min, Watson, SRF                                                       |Nein            |Nein            |FDP  |\n",
      "+-------------+--------+-------------------------------------------------------------------------+----------------+----------------+-----+\n",
      "\n"
     ]
    }
   ],
   "source": [
    "df.show(df.count(), truncate=False)"
   ],
   "metadata": {
    "collapsed": false,
    "pycharm": {
     "name": "#%%\n"
    }
   }
  },
  {
   "cell_type": "code",
   "execution_count": 42,
   "outputs": [
    {
     "name": "stdout",
     "output_type": "stream",
     "text": [
      "+-------------+-----+\n",
      "|          age|count|\n",
      "+-------------+-----+\n",
      "|50 - 60 Jahre|    2|\n",
      "|10 - 20 Jahre|   51|\n",
      "|20 - 30 Jahre|    4|\n",
      "|40 - 50 Jahre|    5|\n",
      "+-------------+-----+\n",
      "\n"
     ]
    }
   ],
   "source": [
    "# age\n",
    "df.groupBy('age').count().show()"
   ],
   "metadata": {
    "collapsed": false,
    "pycharm": {
     "name": "#%%\n"
    }
   }
  },
  {
   "cell_type": "code",
   "execution_count": 43,
   "outputs": [],
   "source": [
    "# media\n",
    "df_media = df\\\n",
    "    .withColumn('media', F.split(F.col('media'), \",\\s*\").cast(ArrayType(StringType())))\\\n",
    "    .withColumn('media', F.explode('media'))"
   ],
   "metadata": {
    "collapsed": false,
    "pycharm": {
     "name": "#%%\n"
    }
   }
  },
  {
   "cell_type": "code",
   "execution_count": 44,
   "outputs": [],
   "source": [
    "# party\n",
    "df_media.groupBy('media').pivot('party').count().toPandas().to_csv('partyDistribution.csv')"
   ],
   "metadata": {
    "collapsed": false,
    "pycharm": {
     "name": "#%%\n"
    }
   }
  },
  {
   "cell_type": "code",
   "execution_count": 47,
   "outputs": [],
   "source": [
    "# kvi\n",
    "df_media.groupBy('media').pivot('kvi').count().toPandas().to_csv('kviMedia.csv')\n",
    "df_media.groupBy('party').pivot('kvi').count().toPandas().to_csv('kviParty.csv')"
   ],
   "metadata": {
    "collapsed": false,
    "pycharm": {
     "name": "#%%\n"
    }
   }
  },
  {
   "cell_type": "code",
   "execution_count": 48,
   "outputs": [],
   "source": [
    "# kfi\n",
    "df_media.groupBy('media').pivot('kfi').count().toPandas().to_csv('kfiMedia.csv')\n",
    "df_media.groupBy('party').pivot('kfi').count().toPandas().to_csv('kfiParty.csv')"
   ],
   "metadata": {
    "collapsed": false,
    "pycharm": {
     "name": "#%%\n"
    }
   }
  }
 ],
 "metadata": {
  "kernelspec": {
   "display_name": "Python 3",
   "language": "python",
   "name": "python3"
  },
  "language_info": {
   "codemirror_mode": {
    "name": "ipython",
    "version": 2
   },
   "file_extension": ".py",
   "mimetype": "text/x-python",
   "name": "python",
   "nbconvert_exporter": "python",
   "pygments_lexer": "ipython2",
   "version": "2.7.6"
  }
 },
 "nbformat": 4,
 "nbformat_minor": 0
}